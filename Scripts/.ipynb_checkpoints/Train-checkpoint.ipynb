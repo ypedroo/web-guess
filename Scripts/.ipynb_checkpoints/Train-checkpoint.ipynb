{
 "cells": [
  {
   "cell_type": "code",
   "execution_count": 9,
   "metadata": {
    "scrolled": false
   },
   "outputs": [
    {
     "name": "stdout",
     "output_type": "stream",
     "text": [
      "Found 2001 images belonging to 2 classes.\n",
      "Found 802 images belonging to 2 classes.\n",
      "Epoch 1/50\n",
      "125/125 [==============================] - 13s 105ms/step - loss: 0.6974 - accuracy: 0.5315 - val_loss: 0.6923 - val_accuracy: 0.5238\n",
      "Epoch 2/50\n",
      "125/125 [==============================] - 13s 107ms/step - loss: 0.6874 - accuracy: 0.5471 - val_loss: 0.6829 - val_accuracy: 0.6158\n",
      "Epoch 3/50\n",
      "125/125 [==============================] - 14s 111ms/step - loss: 0.6840 - accuracy: 0.5773 - val_loss: 0.6298 - val_accuracy: 0.5407\n",
      "Epoch 4/50\n",
      "125/125 [==============================] - 14s 109ms/step - loss: 0.6756 - accuracy: 0.6000 - val_loss: 0.7037 - val_accuracy: 0.6349\n",
      "Epoch 5/50\n",
      "125/125 [==============================] - 13s 106ms/step - loss: 0.6509 - accuracy: 0.6131 - val_loss: 0.6887 - val_accuracy: 0.5420\n",
      "Epoch 6/50\n",
      "125/125 [==============================] - 13s 107ms/step - loss: 0.6618 - accuracy: 0.6050 - val_loss: 0.6782 - val_accuracy: 0.6425\n",
      "Epoch 7/50\n",
      "125/125 [==============================] - 13s 105ms/step - loss: 0.6393 - accuracy: 0.6438 - val_loss: 0.5570 - val_accuracy: 0.6463\n",
      "Epoch 8/50\n",
      "125/125 [==============================] - 13s 104ms/step - loss: 0.6274 - accuracy: 0.6549 - val_loss: 0.5147 - val_accuracy: 0.6552\n",
      "Epoch 9/50\n",
      "125/125 [==============================] - 13s 101ms/step - loss: 0.6103 - accuracy: 0.6695 - val_loss: 0.7221 - val_accuracy: 0.6069\n",
      "Epoch 10/50\n",
      "125/125 [==============================] - 13s 101ms/step - loss: 0.6134 - accuracy: 0.6665 - val_loss: 0.8784 - val_accuracy: 0.6730\n",
      "Epoch 11/50\n",
      "125/125 [==============================] - 14s 108ms/step - loss: 0.5894 - accuracy: 0.7043 - val_loss: 0.2794 - val_accuracy: 0.6908\n",
      "Epoch 12/50\n",
      "125/125 [==============================] - 12s 99ms/step - loss: 0.5399 - accuracy: 0.7285 - val_loss: 0.5451 - val_accuracy: 0.6908\n",
      "Epoch 13/50\n",
      "125/125 [==============================] - 12s 96ms/step - loss: 0.5432 - accuracy: 0.7315 - val_loss: 0.4063 - val_accuracy: 0.7239\n",
      "Epoch 14/50\n",
      "125/125 [==============================] - 12s 97ms/step - loss: 0.5344 - accuracy: 0.7365 - val_loss: 0.7618 - val_accuracy: 0.6934\n",
      "Epoch 15/50\n",
      "125/125 [==============================] - 12s 98ms/step - loss: 0.5132 - accuracy: 0.7531 - val_loss: 0.6160 - val_accuracy: 0.7430\n",
      "Epoch 16/50\n",
      "125/125 [==============================] - 12s 96ms/step - loss: 0.5145 - accuracy: 0.7562 - val_loss: 0.6455 - val_accuracy: 0.7074\n",
      "Epoch 17/50\n",
      "125/125 [==============================] - 12s 98ms/step - loss: 0.5261 - accuracy: 0.7421 - val_loss: 0.3742 - val_accuracy: 0.7099\n",
      "Epoch 18/50\n",
      "125/125 [==============================] - 12s 100ms/step - loss: 0.4825 - accuracy: 0.7765 - val_loss: 0.5306 - val_accuracy: 0.7430\n",
      "Epoch 19/50\n",
      "125/125 [==============================] - 12s 96ms/step - loss: 0.4926 - accuracy: 0.7609 - val_loss: 0.4416 - val_accuracy: 0.7417\n",
      "Epoch 20/50\n",
      "125/125 [==============================] - 12s 98ms/step - loss: 0.4378 - accuracy: 0.7960 - val_loss: 0.6109 - val_accuracy: 0.7328\n",
      "Epoch 21/50\n",
      "125/125 [==============================] - 12s 98ms/step - loss: 0.4479 - accuracy: 0.7924 - val_loss: 0.3121 - val_accuracy: 0.7405\n",
      "Epoch 22/50\n",
      "125/125 [==============================] - 12s 98ms/step - loss: 0.4468 - accuracy: 0.7909 - val_loss: 0.5833 - val_accuracy: 0.7634\n",
      "Epoch 23/50\n",
      "125/125 [==============================] - 12s 98ms/step - loss: 0.4351 - accuracy: 0.7960 - val_loss: 0.4297 - val_accuracy: 0.7405\n",
      "Epoch 24/50\n",
      "125/125 [==============================] - 12s 97ms/step - loss: 0.4137 - accuracy: 0.8116 - val_loss: 0.5804 - val_accuracy: 0.7405\n",
      "Epoch 25/50\n",
      "125/125 [==============================] - 12s 97ms/step - loss: 0.4085 - accuracy: 0.8116 - val_loss: 0.6239 - val_accuracy: 0.7468\n",
      "Epoch 26/50\n",
      "125/125 [==============================] - 12s 98ms/step - loss: 0.3922 - accuracy: 0.8196 - val_loss: 0.3863 - val_accuracy: 0.7570\n",
      "Epoch 27/50\n",
      "125/125 [==============================] - 12s 97ms/step - loss: 0.3769 - accuracy: 0.8272 - val_loss: 0.5657 - val_accuracy: 0.7481\n",
      "Epoch 28/50\n",
      "125/125 [==============================] - 12s 97ms/step - loss: 0.4166 - accuracy: 0.8151 - val_loss: 0.2822 - val_accuracy: 0.7723\n",
      "Epoch 29/50\n",
      "125/125 [==============================] - 12s 98ms/step - loss: 0.3637 - accuracy: 0.8343 - val_loss: 0.3742 - val_accuracy: 0.7557\n",
      "Epoch 30/50\n",
      "125/125 [==============================] - 12s 99ms/step - loss: 0.3551 - accuracy: 0.8448 - val_loss: 0.6416 - val_accuracy: 0.7723\n",
      "Epoch 31/50\n",
      "125/125 [==============================] - 12s 99ms/step - loss: 0.3566 - accuracy: 0.8469 - val_loss: 0.8452 - val_accuracy: 0.7417\n",
      "Epoch 32/50\n",
      "125/125 [==============================] - 12s 98ms/step - loss: 0.3362 - accuracy: 0.8569 - val_loss: 0.8815 - val_accuracy: 0.7812\n",
      "Epoch 33/50\n",
      "125/125 [==============================] - 12s 98ms/step - loss: 0.3158 - accuracy: 0.8670 - val_loss: 0.6542 - val_accuracy: 0.7621\n",
      "Epoch 34/50\n",
      "125/125 [==============================] - 12s 100ms/step - loss: 0.3133 - accuracy: 0.8670 - val_loss: 0.4675 - val_accuracy: 0.7710\n",
      "Epoch 35/50\n",
      "125/125 [==============================] - 12s 98ms/step - loss: 0.3042 - accuracy: 0.8655 - val_loss: 0.2728 - val_accuracy: 0.7659\n",
      "Epoch 36/50\n",
      "125/125 [==============================] - 12s 98ms/step - loss: 0.3037 - accuracy: 0.8690 - val_loss: 0.4231 - val_accuracy: 0.7697\n",
      "Epoch 37/50\n",
      "125/125 [==============================] - 12s 99ms/step - loss: 0.3177 - accuracy: 0.8620 - val_loss: 0.7171 - val_accuracy: 0.7595\n",
      "Epoch 38/50\n",
      "125/125 [==============================] - 12s 96ms/step - loss: 0.2883 - accuracy: 0.8751 - val_loss: 0.3200 - val_accuracy: 0.7557\n",
      "Epoch 39/50\n",
      "125/125 [==============================] - 12s 99ms/step - loss: 0.2893 - accuracy: 0.8680 - val_loss: 0.6981 - val_accuracy: 0.7761\n",
      "Epoch 40/50\n",
      "125/125 [==============================] - 12s 97ms/step - loss: 0.2829 - accuracy: 0.8846 - val_loss: 0.5730 - val_accuracy: 0.7812\n",
      "Epoch 41/50\n",
      "125/125 [==============================] - 12s 99ms/step - loss: 0.2658 - accuracy: 0.8826 - val_loss: 0.7550 - val_accuracy: 0.7774\n",
      "Epoch 42/50\n",
      "125/125 [==============================] - 12s 100ms/step - loss: 0.2658 - accuracy: 0.8866 - val_loss: 0.5564 - val_accuracy: 0.7901\n",
      "Epoch 43/50\n",
      "125/125 [==============================] - 12s 98ms/step - loss: 0.3309 - accuracy: 0.8574 - val_loss: 0.2620 - val_accuracy: 0.7748\n",
      "Epoch 44/50\n",
      "125/125 [==============================] - 12s 98ms/step - loss: 0.2783 - accuracy: 0.8791 - val_loss: 1.1673 - val_accuracy: 0.7710\n",
      "Epoch 45/50\n",
      "125/125 [==============================] - 12s 98ms/step - loss: 0.2675 - accuracy: 0.8846 - val_loss: 0.4239 - val_accuracy: 0.7659\n",
      "Epoch 46/50\n",
      "125/125 [==============================] - 12s 97ms/step - loss: 0.2470 - accuracy: 0.8892 - val_loss: 0.5522 - val_accuracy: 0.7672\n",
      "Epoch 47/50\n",
      "125/125 [==============================] - 12s 97ms/step - loss: 0.2486 - accuracy: 0.8937 - val_loss: 0.7889 - val_accuracy: 0.7748\n",
      "Epoch 48/50\n",
      "125/125 [==============================] - 12s 99ms/step - loss: 0.2226 - accuracy: 0.9135 - val_loss: 0.4608 - val_accuracy: 0.7901\n",
      "Epoch 49/50\n",
      "125/125 [==============================] - 12s 97ms/step - loss: 0.2254 - accuracy: 0.9041 - val_loss: 0.3722 - val_accuracy: 0.7761\n",
      "Epoch 50/50\n",
      "125/125 [==============================] - 12s 100ms/step - loss: 0.2333 - accuracy: 0.8955 - val_loss: 0.2225 - val_accuracy: 0.7863\n"
     ]
    }
   ],
   "source": [
    "from keras.preprocessing.image import ImageDataGenerator\n",
    "from keras.models import Sequential\n",
    "from keras.layers import Conv2D, MaxPooling2D\n",
    "from keras.layers import Activation, Dropout, Flatten, Dense\n",
    "from keras import backend as B\n",
    "\n",
    "width, height = 150, 150\n",
    "\n",
    "train_data_dir = 'data/train'\n",
    "validation_data_dir = 'data/validation'\n",
    "nb_train_samples = 2000\n",
    "nb_validation_samples = 800\n",
    "epochs = 50\n",
    "batch_size = 16\n",
    "\n",
    "if B.image_data_format() == 'channels_first':\n",
    "    input_shape = (3, width, img_height)\n",
    "else:\n",
    "    input_shape = (width, height, 3)\n",
    "\n",
    "model = Sequential()\n",
    "model.add(Conv2D(32, (3, 3), input_shape=input_shape))\n",
    "model.add(Activation('relu'))\n",
    "model.add(MaxPooling2D(pool_size=(2, 2)))\n",
    "\n",
    "model.add(Conv2D(32, (3, 3)))\n",
    "model.add(Activation('relu'))\n",
    "model.add(MaxPooling2D(pool_size=(2, 2)))\n",
    "\n",
    "model.add(Conv2D(64, (3, 3)))\n",
    "model.add(Activation('relu'))\n",
    "model.add(MaxPooling2D(pool_size=(2, 2)))\n",
    "\n",
    "model.add(Flatten())\n",
    "model.add(Dense(64))\n",
    "model.add(Activation('relu'))\n",
    "model.add(Dropout(0.5))\n",
    "model.add(Dense(1))\n",
    "model.add(Activation('sigmoid'))\n",
    "\n",
    "model.compile(loss='binary_crossentropy',\n",
    "              optimizer='rmsprop',\n",
    "              metrics=['accuracy'])\n",
    "\n",
    "train_datagen = ImageDataGenerator(\n",
    "    rescale=1. / 255,\n",
    "    shear_range=0.2,\n",
    "    zoom_range=0.2,\n",
    "    horizontal_flip=True)\n",
    "\n",
    "test_datagen = ImageDataGenerator(rescale=1. / 255)\n",
    "\n",
    "train_generator = train_datagen.flow_from_directory(\n",
    "    train_data_dir,\n",
    "    target_size=(width, height),\n",
    "    batch_size=batch_size,\n",
    "    class_mode='binary')\n",
    "\n",
    "validation_generator = test_datagen.flow_from_directory(\n",
    "    validation_data_dir,\n",
    "    target_size=(width, height),\n",
    "    batch_size=batch_size,\n",
    "    class_mode='binary')\n",
    "\n",
    "model.fit_generator(\n",
    "    train_generator,\n",
    "    steps_per_epoch=nb_train_samples // batch_size,\n",
    "    epochs=epochs,\n",
    "    validation_data=validation_generator,\n",
    "    validation_steps=nb_validation_samples // batch_size)\n",
    "\n",
    "model.save('train_data.h5')"
   ]
  },
  {
   "cell_type": "code",
   "execution_count": 2,
   "metadata": {
    "scrolled": true
   },
   "outputs": [
    {
     "name": "stdout",
     "output_type": "stream",
     "text": [
      "Found 2 images belonging to 2 classes.\n"
     ]
    }
   ],
   "source": [
    "image_data_dir = 'data/images'\n",
    "test_val_datagen = ImageDataGenerator(rescale=1. / 255)\n",
    "\n",
    "test_val_generator = test_val_datagen.flow_from_directory(\n",
    "    image_data_dir,\n",
    "    target_size=(150, 150),\n",
    "    batch_size=16,\n",
    "    class_mode='binary')"
   ]
  },
  {
   "cell_type": "code",
   "execution_count": 58,
   "metadata": {},
   "outputs": [],
   "source": [
    "yhat = model.predict(test_val_generator)"
   ]
  },
  {
   "cell_type": "code",
   "execution_count": 60,
   "metadata": {
    "scrolled": true
   },
   "outputs": [
    {
     "name": "stdout",
     "output_type": "stream",
     "text": [
      "[[0.5793297]\n",
      " [0.4251811]]\n"
     ]
    }
   ],
   "source": [
    "print (model.predict(test_val_generator))"
   ]
  },
  {
   "cell_type": "code",
   "execution_count": 52,
   "metadata": {},
   "outputs": [
    {
     "name": "stdout",
     "output_type": "stream",
     "text": [
      "51\n"
     ]
    }
   ],
   "source": [
    "result_t = []\n",
    "for k in range(51):\n",
    "    result_t.append(yhat[k])\n",
    "\n",
    "print(len(result_t))"
   ]
  },
  {
   "cell_type": "code",
   "execution_count": 53,
   "metadata": {},
   "outputs": [],
   "source": [
    "from sklearn.metrics import f1_score"
   ]
  },
  {
   "cell_type": "code",
   "execution_count": 54,
   "metadata": {},
   "outputs": [],
   "source": [
    "y_true = validation_generator\n",
    "y_pred = yhat"
   ]
  },
  {
   "cell_type": "code",
   "execution_count": 56,
   "metadata": {
    "scrolled": true
   },
   "outputs": [
    {
     "ename": "ValueError",
     "evalue": "Expected array-like (array or non-string sequence), got <keras.preprocessing.image.DirectoryIterator object at 0x0000020F08B1D3C8>",
     "output_type": "error",
     "traceback": [
      "\u001b[1;31m---------------------------------------------------------------------------\u001b[0m",
      "\u001b[1;31mValueError\u001b[0m                                Traceback (most recent call last)",
      "\u001b[1;32m<ipython-input-56-cbbdb823927e>\u001b[0m in \u001b[0;36m<module>\u001b[1;34m\u001b[0m\n\u001b[1;32m----> 1\u001b[1;33m \u001b[0mf1_score\u001b[0m\u001b[1;33m(\u001b[0m\u001b[0my_true\u001b[0m\u001b[1;33m,\u001b[0m \u001b[0mresult_t\u001b[0m\u001b[1;33m,\u001b[0m \u001b[0maverage\u001b[0m\u001b[1;33m=\u001b[0m\u001b[1;34m'macro'\u001b[0m\u001b[1;33m)\u001b[0m\u001b[1;33m\u001b[0m\u001b[1;33m\u001b[0m\u001b[0m\n\u001b[0m",
      "\u001b[1;32m~\\Anaconda3\\lib\\site-packages\\sklearn\\metrics\\_classification.py\u001b[0m in \u001b[0;36mf1_score\u001b[1;34m(y_true, y_pred, labels, pos_label, average, sample_weight, zero_division)\u001b[0m\n\u001b[0;32m   1097\u001b[0m                        \u001b[0mpos_label\u001b[0m\u001b[1;33m=\u001b[0m\u001b[0mpos_label\u001b[0m\u001b[1;33m,\u001b[0m \u001b[0maverage\u001b[0m\u001b[1;33m=\u001b[0m\u001b[0maverage\u001b[0m\u001b[1;33m,\u001b[0m\u001b[1;33m\u001b[0m\u001b[1;33m\u001b[0m\u001b[0m\n\u001b[0;32m   1098\u001b[0m                        \u001b[0msample_weight\u001b[0m\u001b[1;33m=\u001b[0m\u001b[0msample_weight\u001b[0m\u001b[1;33m,\u001b[0m\u001b[1;33m\u001b[0m\u001b[1;33m\u001b[0m\u001b[0m\n\u001b[1;32m-> 1099\u001b[1;33m                        zero_division=zero_division)\n\u001b[0m\u001b[0;32m   1100\u001b[0m \u001b[1;33m\u001b[0m\u001b[0m\n\u001b[0;32m   1101\u001b[0m \u001b[1;33m\u001b[0m\u001b[0m\n",
      "\u001b[1;32m~\\Anaconda3\\lib\\site-packages\\sklearn\\metrics\\_classification.py\u001b[0m in \u001b[0;36mfbeta_score\u001b[1;34m(y_true, y_pred, beta, labels, pos_label, average, sample_weight, zero_division)\u001b[0m\n\u001b[0;32m   1224\u001b[0m                                                  \u001b[0mwarn_for\u001b[0m\u001b[1;33m=\u001b[0m\u001b[1;33m(\u001b[0m\u001b[1;34m'f-score'\u001b[0m\u001b[1;33m,\u001b[0m\u001b[1;33m)\u001b[0m\u001b[1;33m,\u001b[0m\u001b[1;33m\u001b[0m\u001b[1;33m\u001b[0m\u001b[0m\n\u001b[0;32m   1225\u001b[0m                                                  \u001b[0msample_weight\u001b[0m\u001b[1;33m=\u001b[0m\u001b[0msample_weight\u001b[0m\u001b[1;33m,\u001b[0m\u001b[1;33m\u001b[0m\u001b[1;33m\u001b[0m\u001b[0m\n\u001b[1;32m-> 1226\u001b[1;33m                                                  zero_division=zero_division)\n\u001b[0m\u001b[0;32m   1227\u001b[0m     \u001b[1;32mreturn\u001b[0m \u001b[0mf\u001b[0m\u001b[1;33m\u001b[0m\u001b[1;33m\u001b[0m\u001b[0m\n\u001b[0;32m   1228\u001b[0m \u001b[1;33m\u001b[0m\u001b[0m\n",
      "\u001b[1;32m~\\Anaconda3\\lib\\site-packages\\sklearn\\metrics\\_classification.py\u001b[0m in \u001b[0;36mprecision_recall_fscore_support\u001b[1;34m(y_true, y_pred, beta, labels, pos_label, average, warn_for, sample_weight, zero_division)\u001b[0m\n\u001b[0;32m   1482\u001b[0m         \u001b[1;32mraise\u001b[0m \u001b[0mValueError\u001b[0m\u001b[1;33m(\u001b[0m\u001b[1;34m\"beta should be >=0 in the F-beta score\"\u001b[0m\u001b[1;33m)\u001b[0m\u001b[1;33m\u001b[0m\u001b[1;33m\u001b[0m\u001b[0m\n\u001b[0;32m   1483\u001b[0m     labels = _check_set_wise_labels(y_true, y_pred, average, labels,\n\u001b[1;32m-> 1484\u001b[1;33m                                     pos_label)\n\u001b[0m\u001b[0;32m   1485\u001b[0m \u001b[1;33m\u001b[0m\u001b[0m\n\u001b[0;32m   1486\u001b[0m     \u001b[1;31m# Calculate tp_sum, pred_sum, true_sum ###\u001b[0m\u001b[1;33m\u001b[0m\u001b[1;33m\u001b[0m\u001b[1;33m\u001b[0m\u001b[0m\n",
      "\u001b[1;32m~\\Anaconda3\\lib\\site-packages\\sklearn\\metrics\\_classification.py\u001b[0m in \u001b[0;36m_check_set_wise_labels\u001b[1;34m(y_true, y_pred, average, labels, pos_label)\u001b[0m\n\u001b[0;32m   1299\u001b[0m                          str(average_options))\n\u001b[0;32m   1300\u001b[0m \u001b[1;33m\u001b[0m\u001b[0m\n\u001b[1;32m-> 1301\u001b[1;33m     \u001b[0my_type\u001b[0m\u001b[1;33m,\u001b[0m \u001b[0my_true\u001b[0m\u001b[1;33m,\u001b[0m \u001b[0my_pred\u001b[0m \u001b[1;33m=\u001b[0m \u001b[0m_check_targets\u001b[0m\u001b[1;33m(\u001b[0m\u001b[0my_true\u001b[0m\u001b[1;33m,\u001b[0m \u001b[0my_pred\u001b[0m\u001b[1;33m)\u001b[0m\u001b[1;33m\u001b[0m\u001b[1;33m\u001b[0m\u001b[0m\n\u001b[0m\u001b[0;32m   1302\u001b[0m     \u001b[0mpresent_labels\u001b[0m \u001b[1;33m=\u001b[0m \u001b[0munique_labels\u001b[0m\u001b[1;33m(\u001b[0m\u001b[0my_true\u001b[0m\u001b[1;33m,\u001b[0m \u001b[0my_pred\u001b[0m\u001b[1;33m)\u001b[0m\u001b[1;33m\u001b[0m\u001b[1;33m\u001b[0m\u001b[0m\n\u001b[0;32m   1303\u001b[0m     \u001b[1;32mif\u001b[0m \u001b[0maverage\u001b[0m \u001b[1;33m==\u001b[0m \u001b[1;34m'binary'\u001b[0m\u001b[1;33m:\u001b[0m\u001b[1;33m\u001b[0m\u001b[1;33m\u001b[0m\u001b[0m\n",
      "\u001b[1;32m~\\Anaconda3\\lib\\site-packages\\sklearn\\metrics\\_classification.py\u001b[0m in \u001b[0;36m_check_targets\u001b[1;34m(y_true, y_pred)\u001b[0m\n\u001b[0;32m     79\u001b[0m     \"\"\"\n\u001b[0;32m     80\u001b[0m     \u001b[0mcheck_consistent_length\u001b[0m\u001b[1;33m(\u001b[0m\u001b[0my_true\u001b[0m\u001b[1;33m,\u001b[0m \u001b[0my_pred\u001b[0m\u001b[1;33m)\u001b[0m\u001b[1;33m\u001b[0m\u001b[1;33m\u001b[0m\u001b[0m\n\u001b[1;32m---> 81\u001b[1;33m     \u001b[0mtype_true\u001b[0m \u001b[1;33m=\u001b[0m \u001b[0mtype_of_target\u001b[0m\u001b[1;33m(\u001b[0m\u001b[0my_true\u001b[0m\u001b[1;33m)\u001b[0m\u001b[1;33m\u001b[0m\u001b[1;33m\u001b[0m\u001b[0m\n\u001b[0m\u001b[0;32m     82\u001b[0m     \u001b[0mtype_pred\u001b[0m \u001b[1;33m=\u001b[0m \u001b[0mtype_of_target\u001b[0m\u001b[1;33m(\u001b[0m\u001b[0my_pred\u001b[0m\u001b[1;33m)\u001b[0m\u001b[1;33m\u001b[0m\u001b[1;33m\u001b[0m\u001b[0m\n\u001b[0;32m     83\u001b[0m \u001b[1;33m\u001b[0m\u001b[0m\n",
      "\u001b[1;32m~\\Anaconda3\\lib\\site-packages\\sklearn\\utils\\multiclass.py\u001b[0m in \u001b[0;36mtype_of_target\u001b[1;34m(y)\u001b[0m\n\u001b[0;32m    239\u001b[0m     \u001b[1;32mif\u001b[0m \u001b[1;32mnot\u001b[0m \u001b[0mvalid\u001b[0m\u001b[1;33m:\u001b[0m\u001b[1;33m\u001b[0m\u001b[1;33m\u001b[0m\u001b[0m\n\u001b[0;32m    240\u001b[0m         raise ValueError('Expected array-like (array or non-string sequence), '\n\u001b[1;32m--> 241\u001b[1;33m                          'got %r' % y)\n\u001b[0m\u001b[0;32m    242\u001b[0m \u001b[1;33m\u001b[0m\u001b[0m\n\u001b[0;32m    243\u001b[0m     \u001b[0msparse_pandas\u001b[0m \u001b[1;33m=\u001b[0m \u001b[1;33m(\u001b[0m\u001b[0my\u001b[0m\u001b[1;33m.\u001b[0m\u001b[0m__class__\u001b[0m\u001b[1;33m.\u001b[0m\u001b[0m__name__\u001b[0m \u001b[1;32min\u001b[0m \u001b[1;33m[\u001b[0m\u001b[1;34m'SparseSeries'\u001b[0m\u001b[1;33m,\u001b[0m \u001b[1;34m'SparseArray'\u001b[0m\u001b[1;33m]\u001b[0m\u001b[1;33m)\u001b[0m\u001b[1;33m\u001b[0m\u001b[1;33m\u001b[0m\u001b[0m\n",
      "\u001b[1;31mValueError\u001b[0m: Expected array-like (array or non-string sequence), got <keras.preprocessing.image.DirectoryIterator object at 0x0000020F08B1D3C8>"
     ]
    }
   ],
   "source": [
    " f1_score(y_true, result_t, average='macro')"
   ]
  },
  {
   "cell_type": "code",
   "execution_count": null,
   "metadata": {},
   "outputs": [],
   "source": []
  }
 ],
 "metadata": {
  "kernelspec": {
   "display_name": "Python 3",
   "language": "python",
   "name": "python3"
  },
  "language_info": {
   "codemirror_mode": {
    "name": "ipython",
    "version": 3
   },
   "file_extension": ".py",
   "mimetype": "text/x-python",
   "name": "python",
   "nbconvert_exporter": "python",
   "pygments_lexer": "ipython3",
   "version": "3.7.6"
  }
 },
 "nbformat": 4,
 "nbformat_minor": 4
}
